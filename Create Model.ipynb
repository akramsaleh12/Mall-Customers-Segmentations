{
 "cells": [
  {
   "cell_type": "markdown",
   "id": "9cf02715-8f2d-4814-bb6f-68c31b746f56",
   "metadata": {},
   "source": [
    "# KMeans\n",
    "#### K-means is unsupervised machine learning algorithm for clustering data, it can be used for prediction by assigning new data points to the nearest cluster based on the trained model's cluster centers.\n",
    "#### K-means is an unsupervised algorithm, meaning it doesn't rely on labeled data for training. It identifies patterns and groups data points into clusters based on similarity. "
   ]
  },
  {
   "cell_type": "code",
   "execution_count": 1,
   "id": "11c2412d-ec39-4d40-8890-6954b7695fcf",
   "metadata": {},
   "outputs": [],
   "source": [
    "# To turn off warning messages\n",
    "import warnings\n",
    "warnings.filterwarnings('ignore')"
   ]
  },
  {
   "cell_type": "code",
   "execution_count": 2,
   "id": "93a1c40b-e190-4931-be51-64e92a7617a6",
   "metadata": {},
   "outputs": [],
   "source": [
    "import pandas as pd\n",
    "import numpy as np\n",
    "import matplotlib.pyplot as plt\n",
    "import seaborn as sns\n",
    "import joblib  # To save & load the model\n",
    "from sklearn.cluster import KMeans\n",
    "from sklearn.metrics import silhouette_score # For check Model Accuracy"
   ]
  },
  {
   "cell_type": "code",
   "execution_count": 3,
   "id": "36d101cf-c48f-4d19-aacb-963f019569d6",
   "metadata": {},
   "outputs": [
    {
     "data": {
      "text/html": [
       "<div>\n",
       "<style scoped>\n",
       "    .dataframe tbody tr th:only-of-type {\n",
       "        vertical-align: middle;\n",
       "    }\n",
       "\n",
       "    .dataframe tbody tr th {\n",
       "        vertical-align: top;\n",
       "    }\n",
       "\n",
       "    .dataframe thead th {\n",
       "        text-align: right;\n",
       "    }\n",
       "</style>\n",
       "<table border=\"1\" class=\"dataframe\">\n",
       "  <thead>\n",
       "    <tr style=\"text-align: right;\">\n",
       "      <th></th>\n",
       "      <th>CustomerID</th>\n",
       "      <th>Gender</th>\n",
       "      <th>Age</th>\n",
       "      <th>Annual Income (k$)</th>\n",
       "      <th>Spending Score (1-100)</th>\n",
       "    </tr>\n",
       "  </thead>\n",
       "  <tbody>\n",
       "    <tr>\n",
       "      <th>0</th>\n",
       "      <td>1</td>\n",
       "      <td>Male</td>\n",
       "      <td>19</td>\n",
       "      <td>15</td>\n",
       "      <td>39</td>\n",
       "    </tr>\n",
       "    <tr>\n",
       "      <th>1</th>\n",
       "      <td>2</td>\n",
       "      <td>Male</td>\n",
       "      <td>21</td>\n",
       "      <td>15</td>\n",
       "      <td>81</td>\n",
       "    </tr>\n",
       "    <tr>\n",
       "      <th>2</th>\n",
       "      <td>3</td>\n",
       "      <td>Female</td>\n",
       "      <td>20</td>\n",
       "      <td>16</td>\n",
       "      <td>6</td>\n",
       "    </tr>\n",
       "    <tr>\n",
       "      <th>3</th>\n",
       "      <td>4</td>\n",
       "      <td>Female</td>\n",
       "      <td>23</td>\n",
       "      <td>16</td>\n",
       "      <td>77</td>\n",
       "    </tr>\n",
       "    <tr>\n",
       "      <th>4</th>\n",
       "      <td>5</td>\n",
       "      <td>Female</td>\n",
       "      <td>31</td>\n",
       "      <td>17</td>\n",
       "      <td>40</td>\n",
       "    </tr>\n",
       "  </tbody>\n",
       "</table>\n",
       "</div>"
      ],
      "text/plain": [
       "   CustomerID  Gender  Age  Annual Income (k$)  Spending Score (1-100)\n",
       "0           1    Male   19                  15                      39\n",
       "1           2    Male   21                  15                      81\n",
       "2           3  Female   20                  16                       6\n",
       "3           4  Female   23                  16                      77\n",
       "4           5  Female   31                  17                      40"
      ]
     },
     "execution_count": 3,
     "metadata": {},
     "output_type": "execute_result"
    }
   ],
   "source": [
    "# Load the dataset\n",
    "df = pd.read_csv(\"Mall_Customers.csv\")\n",
    "df.head()"
   ]
  },
  {
   "cell_type": "code",
   "execution_count": 4,
   "id": "5eb10341-f591-4bcf-a74d-09ff0f0dd1ed",
   "metadata": {},
   "outputs": [
    {
     "data": {
      "text/plain": [
       "(200, 5)"
      ]
     },
     "execution_count": 4,
     "metadata": {},
     "output_type": "execute_result"
    }
   ],
   "source": [
    "df.shape"
   ]
  },
  {
   "cell_type": "code",
   "execution_count": 5,
   "id": "de7e1913-b788-4884-8745-a084a81253ff",
   "metadata": {},
   "outputs": [
    {
     "data": {
      "text/plain": [
       "CustomerID                0\n",
       "Gender                    0\n",
       "Age                       0\n",
       "Annual Income (k$)        0\n",
       "Spending Score (1-100)    0\n",
       "dtype: int64"
      ]
     },
     "execution_count": 5,
     "metadata": {},
     "output_type": "execute_result"
    }
   ],
   "source": [
    "df.isnull().sum()"
   ]
  },
  {
   "cell_type": "code",
   "execution_count": 6,
   "id": "411c035b-7b12-49ac-a54c-b0bdf34fada7",
   "metadata": {},
   "outputs": [
    {
     "data": {
      "text/html": [
       "<div>\n",
       "<style scoped>\n",
       "    .dataframe tbody tr th:only-of-type {\n",
       "        vertical-align: middle;\n",
       "    }\n",
       "\n",
       "    .dataframe tbody tr th {\n",
       "        vertical-align: top;\n",
       "    }\n",
       "\n",
       "    .dataframe thead th {\n",
       "        text-align: right;\n",
       "    }\n",
       "</style>\n",
       "<table border=\"1\" class=\"dataframe\">\n",
       "  <thead>\n",
       "    <tr style=\"text-align: right;\">\n",
       "      <th></th>\n",
       "      <th>count</th>\n",
       "      <th>mean</th>\n",
       "      <th>std</th>\n",
       "      <th>min</th>\n",
       "      <th>25%</th>\n",
       "      <th>50%</th>\n",
       "      <th>75%</th>\n",
       "      <th>max</th>\n",
       "    </tr>\n",
       "  </thead>\n",
       "  <tbody>\n",
       "    <tr>\n",
       "      <th>CustomerID</th>\n",
       "      <td>200.0</td>\n",
       "      <td>100.50</td>\n",
       "      <td>57.879185</td>\n",
       "      <td>1.0</td>\n",
       "      <td>50.75</td>\n",
       "      <td>100.5</td>\n",
       "      <td>150.25</td>\n",
       "      <td>200.0</td>\n",
       "    </tr>\n",
       "    <tr>\n",
       "      <th>Age</th>\n",
       "      <td>200.0</td>\n",
       "      <td>38.85</td>\n",
       "      <td>13.969007</td>\n",
       "      <td>18.0</td>\n",
       "      <td>28.75</td>\n",
       "      <td>36.0</td>\n",
       "      <td>49.00</td>\n",
       "      <td>70.0</td>\n",
       "    </tr>\n",
       "    <tr>\n",
       "      <th>Annual Income (k$)</th>\n",
       "      <td>200.0</td>\n",
       "      <td>60.56</td>\n",
       "      <td>26.264721</td>\n",
       "      <td>15.0</td>\n",
       "      <td>41.50</td>\n",
       "      <td>61.5</td>\n",
       "      <td>78.00</td>\n",
       "      <td>137.0</td>\n",
       "    </tr>\n",
       "    <tr>\n",
       "      <th>Spending Score (1-100)</th>\n",
       "      <td>200.0</td>\n",
       "      <td>50.20</td>\n",
       "      <td>25.823522</td>\n",
       "      <td>1.0</td>\n",
       "      <td>34.75</td>\n",
       "      <td>50.0</td>\n",
       "      <td>73.00</td>\n",
       "      <td>99.0</td>\n",
       "    </tr>\n",
       "  </tbody>\n",
       "</table>\n",
       "</div>"
      ],
      "text/plain": [
       "                        count    mean        std   min    25%    50%     75%  \\\n",
       "CustomerID              200.0  100.50  57.879185   1.0  50.75  100.5  150.25   \n",
       "Age                     200.0   38.85  13.969007  18.0  28.75   36.0   49.00   \n",
       "Annual Income (k$)      200.0   60.56  26.264721  15.0  41.50   61.5   78.00   \n",
       "Spending Score (1-100)  200.0   50.20  25.823522   1.0  34.75   50.0   73.00   \n",
       "\n",
       "                          max  \n",
       "CustomerID              200.0  \n",
       "Age                      70.0  \n",
       "Annual Income (k$)      137.0  \n",
       "Spending Score (1-100)   99.0  "
      ]
     },
     "execution_count": 6,
     "metadata": {},
     "output_type": "execute_result"
    }
   ],
   "source": [
    "df.describe().T"
   ]
  },
  {
   "cell_type": "code",
   "execution_count": 7,
   "id": "c45c7f4b-f16f-44dd-a80b-5053a47581e0",
   "metadata": {},
   "outputs": [],
   "source": [
    "# Selecting features for clustering\n",
    "X = df[['Annual Income (k$)', 'Spending Score (1-100)']]"
   ]
  },
  {
   "cell_type": "code",
   "execution_count": 8,
   "id": "d58ab33a-f801-4b63-854a-1fc491c342f6",
   "metadata": {},
   "outputs": [],
   "source": [
    "# Hyperparameter Tuning: Find the best k and best random_state using Silhouette Score\n",
    "best_k = 2\n",
    "best_random_state = 0\n",
    "best_score = -1\n",
    "best_model = None\n",
    "\n",
    "wcss = []\n",
    "silhouette_scores = []\n",
    "\n",
    "for k in range(2, 11):  # Testing k from 2 to 10\n",
    "    for random_state in range(0, 43):  # Testing random_state from 0 to 42\n",
    "        kmeans = KMeans(n_clusters=k, init='k-means++', random_state=random_state)\n",
    "        cluster_labels = kmeans.fit_predict(X)\n",
    "\n",
    "        # Calculate WCSS (Elbow Method)\n",
    "        if random_state == 0:\n",
    "            wcss.append(kmeans.inertia_)  # Only store WCSS once per k\n",
    "\n",
    "        # Calculate Silhouette Score\n",
    "        score = silhouette_score(X, cluster_labels)\n",
    "\n",
    "        # Save the best model based on the highest silhouette score\n",
    "        if score > best_score:\n",
    "            best_score = score\n",
    "            best_k = k\n",
    "            best_random_state = random_state\n",
    "            best_model = kmeans\n",
    "\n",
    "        # Store silhouette scores for visualization\n",
    "        if random_state == 0:\n",
    "            silhouette_scores.append(score)\n"
   ]
  },
  {
   "cell_type": "code",
   "execution_count": 9,
   "id": "95649061-106a-462f-b408-0cf109517d5b",
   "metadata": {},
   "outputs": [
    {
     "data": {
      "image/png": "[encoded data removed]",
      "text/plain": [
       "<Figure size 1000x500 with 2 Axes>"
      ]
     },
     "metadata": {},
     "output_type": "display_data"
    }
   ],
   "source": [
    "# Plot the Elbow Method and Silhouette Score\n",
    "fig, ax1 = plt.subplots(figsize=(10,5))\n",
    "\n",
    "ax2 = ax1.twinx()\n",
    "ax1.plot(range(2, 11), wcss, marker='o', linestyle='--', label=\"WCSS\", color='b')\n",
    "ax2.plot(range(2, 11), silhouette_scores, marker='s', linestyle='-', label=\"Silhouette Score\", color='r')\n",
    "\n",
    "ax1.set_xlabel(\"Number of Clusters (k)\")\n",
    "ax1.set_ylabel(\"WCSS\", color='b')\n",
    "ax2.set_ylabel(\"Silhouette Score\", color='r')\n",
    "\n",
    "ax1.set_title(\"Elbow Method (WCSS) & Silhouette Score for Optimal Clusters\")\n",
    "ax1.legend(loc='upper left')\n",
    "ax2.legend(loc='upper right')\n",
    "\n",
    "plt.show()"
   ]
  },
  {
   "cell_type": "code",
   "execution_count": 10,
   "id": "6b16a956-c738-4cb3-82bd-958bd9a68e35",
   "metadata": {},
   "outputs": [],
   "source": [
    "# Train the best K-Means model\n",
    "df[\"Cluster\"] = best_model.fit_predict(X)"
   ]
  },
  {
   "cell_type": "code",
   "execution_count": 11,
   "id": "249330b1-5181-4177-9623-92190f12ed06",
   "metadata": {},
   "outputs": [
    {
     "data": {
      "text/html": [
       "<div>\n",
       "<style scoped>\n",
       "    .dataframe tbody tr th:only-of-type {\n",
       "        vertical-align: middle;\n",
       "    }\n",
       "\n",
       "    .dataframe tbody tr th {\n",
       "        vertical-align: top;\n",
       "    }\n",
       "\n",
       "    .dataframe thead th {\n",
       "        text-align: right;\n",
       "    }\n",
       "</style>\n",
       "<table border=\"1\" class=\"dataframe\">\n",
       "  <thead>\n",
       "    <tr style=\"text-align: right;\">\n",
       "      <th></th>\n",
       "      <th>CustomerID</th>\n",
       "      <th>Gender</th>\n",
       "      <th>Age</th>\n",
       "      <th>Annual Income (k$)</th>\n",
       "      <th>Spending Score (1-100)</th>\n",
       "      <th>Cluster</th>\n",
       "    </tr>\n",
       "  </thead>\n",
       "  <tbody>\n",
       "    <tr>\n",
       "      <th>0</th>\n",
       "      <td>1</td>\n",
       "      <td>Male</td>\n",
       "      <td>19</td>\n",
       "      <td>15</td>\n",
       "      <td>39</td>\n",
       "      <td>3</td>\n",
       "    </tr>\n",
       "    <tr>\n",
       "      <th>1</th>\n",
       "      <td>2</td>\n",
       "      <td>Male</td>\n",
       "      <td>21</td>\n",
       "      <td>15</td>\n",
       "      <td>81</td>\n",
       "      <td>4</td>\n",
       "    </tr>\n",
       "    <tr>\n",
       "      <th>2</th>\n",
       "      <td>3</td>\n",
       "      <td>Female</td>\n",
       "      <td>20</td>\n",
       "      <td>16</td>\n",
       "      <td>6</td>\n",
       "      <td>3</td>\n",
       "    </tr>\n",
       "    <tr>\n",
       "      <th>3</th>\n",
       "      <td>4</td>\n",
       "      <td>Female</td>\n",
       "      <td>23</td>\n",
       "      <td>16</td>\n",
       "      <td>77</td>\n",
       "      <td>4</td>\n",
       "    </tr>\n",
       "    <tr>\n",
       "      <th>4</th>\n",
       "      <td>5</td>\n",
       "      <td>Female</td>\n",
       "      <td>31</td>\n",
       "      <td>17</td>\n",
       "      <td>40</td>\n",
       "      <td>3</td>\n",
       "    </tr>\n",
       "  </tbody>\n",
       "</table>\n",
       "</div>"
      ],
      "text/plain": [
       "   CustomerID  Gender  Age  Annual Income (k$)  Spending Score (1-100)  \\\n",
       "0           1    Male   19                  15                      39   \n",
       "1           2    Male   21                  15                      81   \n",
       "2           3  Female   20                  16                       6   \n",
       "3           4  Female   23                  16                      77   \n",
       "4           5  Female   31                  17                      40   \n",
       "\n",
       "   Cluster  \n",
       "0        3  \n",
       "1        4  \n",
       "2        3  \n",
       "3        4  \n",
       "4        3  "
      ]
     },
     "execution_count": 11,
     "metadata": {},
     "output_type": "execute_result"
    }
   ],
   "source": [
    "df.head()"
   ]
  },
  {
   "cell_type": "code",
   "execution_count": 12,
   "id": "84f0b17b-91bb-4e8a-beeb-ceba431c975f",
   "metadata": {},
   "outputs": [
    {
     "name": "stdout",
     "output_type": "stream",
     "text": [
      "Best K-Means model saved as best_kmeans_model.pkl with k=5 and Silhouette Score: 0.5539\n"
     ]
    }
   ],
   "source": [
    "# Save the best K-Means model\n",
    "joblib.dump(best_model, \"kmeans_model.pkl\")\n",
    "print(f\"Best K-Means model saved as best_kmeans_model.pkl with k={best_k} and Silhouette Score: {best_score:.4f}\")"
   ]
  },
  {
   "cell_type": "code",
   "execution_count": 13,
   "id": "17485eb1-dff7-4413-8bb9-9aaa941e1c59",
   "metadata": {},
   "outputs": [],
   "source": [
    "# Save clustered data\n",
    "df.to_csv(\"Mall_Customers_with_Best_Clusters.csv\", index=False)"
   ]
  },
  {
   "cell_type": "code",
   "execution_count": 14,
   "id": "11cf843c-e164-4799-81f0-7a76f11c9af1",
   "metadata": {},
   "outputs": [],
   "source": [
    "# ====== Load Model and Make Predictions ======\n",
    "# Load the trained best model\n",
    "loaded_kmeans = joblib.load(\"kmeans_model.pkl\")\n",
    "\n",
    "# Predicting clusters for the existing customers\n",
    "df[\"Predicted Cluster\"] = loaded_kmeans.predict(X)"
   ]
  },
  {
   "cell_type": "code",
   "execution_count": 15,
   "id": "9678f93e-2849-4e31-8b6e-ae33a8443a34",
   "metadata": {},
   "outputs": [
    {
     "data": {
      "text/html": [
       "<div>\n",
       "<style scoped>\n",
       "    .dataframe tbody tr th:only-of-type {\n",
       "        vertical-align: middle;\n",
       "    }\n",
       "\n",
       "    .dataframe tbody tr th {\n",
       "        vertical-align: top;\n",
       "    }\n",
       "\n",
       "    .dataframe thead th {\n",
       "        text-align: right;\n",
       "    }\n",
       "</style>\n",
       "<table border=\"1\" class=\"dataframe\">\n",
       "  <thead>\n",
       "    <tr style=\"text-align: right;\">\n",
       "      <th></th>\n",
       "      <th>CustomerID</th>\n",
       "      <th>Gender</th>\n",
       "      <th>Age</th>\n",
       "      <th>Annual Income (k$)</th>\n",
       "      <th>Spending Score (1-100)</th>\n",
       "      <th>Cluster</th>\n",
       "      <th>Predicted Cluster</th>\n",
       "    </tr>\n",
       "  </thead>\n",
       "  <tbody>\n",
       "    <tr>\n",
       "      <th>0</th>\n",
       "      <td>1</td>\n",
       "      <td>Male</td>\n",
       "      <td>19</td>\n",
       "      <td>15</td>\n",
       "      <td>39</td>\n",
       "      <td>3</td>\n",
       "      <td>3</td>\n",
       "    </tr>\n",
       "    <tr>\n",
       "      <th>1</th>\n",
       "      <td>2</td>\n",
       "      <td>Male</td>\n",
       "      <td>21</td>\n",
       "      <td>15</td>\n",
       "      <td>81</td>\n",
       "      <td>4</td>\n",
       "      <td>4</td>\n",
       "    </tr>\n",
       "    <tr>\n",
       "      <th>2</th>\n",
       "      <td>3</td>\n",
       "      <td>Female</td>\n",
       "      <td>20</td>\n",
       "      <td>16</td>\n",
       "      <td>6</td>\n",
       "      <td>3</td>\n",
       "      <td>3</td>\n",
       "    </tr>\n",
       "    <tr>\n",
       "      <th>3</th>\n",
       "      <td>4</td>\n",
       "      <td>Female</td>\n",
       "      <td>23</td>\n",
       "      <td>16</td>\n",
       "      <td>77</td>\n",
       "      <td>4</td>\n",
       "      <td>4</td>\n",
       "    </tr>\n",
       "    <tr>\n",
       "      <th>4</th>\n",
       "      <td>5</td>\n",
       "      <td>Female</td>\n",
       "      <td>31</td>\n",
       "      <td>17</td>\n",
       "      <td>40</td>\n",
       "      <td>3</td>\n",
       "      <td>3</td>\n",
       "    </tr>\n",
       "  </tbody>\n",
       "</table>\n",
       "</div>"
      ],
      "text/plain": [
       "   CustomerID  Gender  Age  Annual Income (k$)  Spending Score (1-100)  \\\n",
       "0           1    Male   19                  15                      39   \n",
       "1           2    Male   21                  15                      81   \n",
       "2           3  Female   20                  16                       6   \n",
       "3           4  Female   23                  16                      77   \n",
       "4           5  Female   31                  17                      40   \n",
       "\n",
       "   Cluster  Predicted Cluster  \n",
       "0        3                  3  \n",
       "1        4                  4  \n",
       "2        3                  3  \n",
       "3        4                  4  \n",
       "4        3                  3  "
      ]
     },
     "execution_count": 15,
     "metadata": {},
     "output_type": "execute_result"
    }
   ],
   "source": [
    "df.head()"
   ]
  },
  {
   "cell_type": "code",
   "execution_count": 16,
   "id": "d8fd590b-8869-4530-b593-bbc293e5e6e0",
   "metadata": {},
   "outputs": [
    {
     "data": {
      "text/html": [
       "<div>\n",
       "<style scoped>\n",
       "    .dataframe tbody tr th:only-of-type {\n",
       "        vertical-align: middle;\n",
       "    }\n",
       "\n",
       "    .dataframe tbody tr th {\n",
       "        vertical-align: top;\n",
       "    }\n",
       "\n",
       "    .dataframe thead th {\n",
       "        text-align: right;\n",
       "    }\n",
       "</style>\n",
       "<table border=\"1\" class=\"dataframe\">\n",
       "  <thead>\n",
       "    <tr style=\"text-align: right;\">\n",
       "      <th></th>\n",
       "      <th>CustomerID</th>\n",
       "      <th>Gender</th>\n",
       "      <th>Age</th>\n",
       "      <th>Annual Income (k$)</th>\n",
       "      <th>Spending Score (1-100)</th>\n",
       "      <th>Cluster</th>\n",
       "      <th>Predicted Cluster</th>\n",
       "    </tr>\n",
       "  </thead>\n",
       "  <tbody>\n",
       "    <tr>\n",
       "      <th>195</th>\n",
       "      <td>196</td>\n",
       "      <td>Female</td>\n",
       "      <td>35</td>\n",
       "      <td>120</td>\n",
       "      <td>79</td>\n",
       "      <td>1</td>\n",
       "      <td>1</td>\n",
       "    </tr>\n",
       "    <tr>\n",
       "      <th>196</th>\n",
       "      <td>197</td>\n",
       "      <td>Female</td>\n",
       "      <td>45</td>\n",
       "      <td>126</td>\n",
       "      <td>28</td>\n",
       "      <td>2</td>\n",
       "      <td>2</td>\n",
       "    </tr>\n",
       "    <tr>\n",
       "      <th>197</th>\n",
       "      <td>198</td>\n",
       "      <td>Male</td>\n",
       "      <td>32</td>\n",
       "      <td>126</td>\n",
       "      <td>74</td>\n",
       "      <td>1</td>\n",
       "      <td>1</td>\n",
       "    </tr>\n",
       "    <tr>\n",
       "      <th>198</th>\n",
       "      <td>199</td>\n",
       "      <td>Male</td>\n",
       "      <td>32</td>\n",
       "      <td>137</td>\n",
       "      <td>18</td>\n",
       "      <td>2</td>\n",
       "      <td>2</td>\n",
       "    </tr>\n",
       "    <tr>\n",
       "      <th>199</th>\n",
       "      <td>200</td>\n",
       "      <td>Male</td>\n",
       "      <td>30</td>\n",
       "      <td>137</td>\n",
       "      <td>83</td>\n",
       "      <td>1</td>\n",
       "      <td>1</td>\n",
       "    </tr>\n",
       "  </tbody>\n",
       "</table>\n",
       "</div>"
      ],
      "text/plain": [
       "     CustomerID  Gender  Age  Annual Income (k$)  Spending Score (1-100)  \\\n",
       "195         196  Female   35                 120                      79   \n",
       "196         197  Female   45                 126                      28   \n",
       "197         198    Male   32                 126                      74   \n",
       "198         199    Male   32                 137                      18   \n",
       "199         200    Male   30                 137                      83   \n",
       "\n",
       "     Cluster  Predicted Cluster  \n",
       "195        1                  1  \n",
       "196        2                  2  \n",
       "197        1                  1  \n",
       "198        2                  2  \n",
       "199        1                  1  "
      ]
     },
     "execution_count": 16,
     "metadata": {},
     "output_type": "execute_result"
    }
   ],
   "source": [
    "df.tail()"
   ]
  },
  {
   "cell_type": "code",
   "execution_count": 17,
   "id": "86f65513-4fbb-413b-b967-e34f6f3c729d",
   "metadata": {},
   "outputs": [
    {
     "name": "stdout",
     "output_type": "stream",
     "text": [
      "Predictions saved in Mall_Customers_Predictions.csv\n"
     ]
    }
   ],
   "source": [
    "# Save predictions\n",
    "df.to_csv(\"Mall_Customers_Predictions.csv\", index=False)\n",
    "print(\"Predictions saved in Mall_Customers_Predictions.csv\")"
   ]
  },
  {
   "cell_type": "code",
   "execution_count": 18,
   "id": "f8f09d43-1ea8-432d-b5bb-143ed4884442",
   "metadata": {},
   "outputs": [
    {
     "name": "stdout",
     "output_type": "stream",
     "text": [
      "The model created 5 clusters.\n"
     ]
    }
   ],
   "source": [
    "print(f\"The model created {best_k} clusters.\")"
   ]
  },
  {
   "cell_type": "code",
   "execution_count": 19,
   "id": "f7640cc5-2d80-4269-b396-729c8a6a0211",
   "metadata": {},
   "outputs": [
    {
     "data": {
      "text/plain": [
       "Cluster\n",
       "0    81\n",
       "1    39\n",
       "2    35\n",
       "3    23\n",
       "4    22\n",
       "Name: count, dtype: int64"
      ]
     },
     "execution_count": 19,
     "metadata": {},
     "output_type": "execute_result"
    }
   ],
   "source": [
    "df[\"Cluster\"].value_counts()"
   ]
  },
  {
   "cell_type": "code",
   "execution_count": 20,
   "id": "e19e5da5-b1e4-4a5c-a247-ec1a0af247c5",
   "metadata": {},
   "outputs": [
    {
     "name": "stdout",
     "output_type": "stream",
     "text": [
      "        Annual Income (k$)          Spending Score (1-100)         CustomerID\n",
      "                      mean min  max                   mean min max      count\n",
      "Cluster                                                                      \n",
      "0                55.296296  39   76              49.518519  34  61         81\n",
      "1                86.538462  69  137              82.128205  63  97         39\n",
      "2                88.200000  70  137              17.114286   1  39         35\n",
      "3                26.304348  15   39              20.913043   3  40         23\n",
      "4                25.727273  15   39              79.363636  61  99         22\n"
     ]
    }
   ],
   "source": [
    "# Print Summary Statistics for Each Cluster\n",
    "cluster_summary = df.groupby(\"Cluster\").agg({\n",
    "    \"Annual Income (k$)\": [\"mean\", \"min\", \"max\"],\n",
    "    \"Spending Score (1-100)\": [\"mean\", \"min\", \"max\"],\n",
    "    \"CustomerID\": \"count\"\n",
    "})\n",
    "\n",
    "print(cluster_summary)"
   ]
  },
  {
   "cell_type": "markdown",
   "id": "bb0fd6c2-62e1-4618-9329-77ef3e9289a5",
   "metadata": {},
   "source": [
    "## Cluster Representation"
   ]
  },
  {
   "cell_type": "code",
   "execution_count": 21,
   "id": "fef540f8-6348-492b-b445-f6cd52ed9e8a",
   "metadata": {},
   "outputs": [
    {
     "data": {
      "text/html": [
       "<div>\n",
       "<style scoped>\n",
       "    .dataframe tbody tr th:only-of-type {\n",
       "        vertical-align: middle;\n",
       "    }\n",
       "\n",
       "    .dataframe tbody tr th {\n",
       "        vertical-align: top;\n",
       "    }\n",
       "\n",
       "    .dataframe thead th {\n",
       "        text-align: right;\n",
       "    }\n",
       "</style>\n",
       "<table border=\"1\" class=\"dataframe\">\n",
       "  <thead>\n",
       "    <tr style=\"text-align: right;\">\n",
       "      <th></th>\n",
       "      <th>Annual Income (k$)</th>\n",
       "      <th>Spending Score (1-100)</th>\n",
       "      <th>Customer Count</th>\n",
       "      <th>Cluster Description</th>\n",
       "    </tr>\n",
       "    <tr>\n",
       "      <th>Cluster</th>\n",
       "      <th></th>\n",
       "      <th></th>\n",
       "      <th></th>\n",
       "      <th></th>\n",
       "    </tr>\n",
       "  </thead>\n",
       "  <tbody>\n",
       "    <tr>\n",
       "      <th>0</th>\n",
       "      <td>55.296296</td>\n",
       "      <td>49.518519</td>\n",
       "      <td>81</td>\n",
       "      <td>Medium Income, Medium Spender (Average Customer)</td>\n",
       "    </tr>\n",
       "    <tr>\n",
       "      <th>1</th>\n",
       "      <td>86.538462</td>\n",
       "      <td>82.128205</td>\n",
       "      <td>39</td>\n",
       "      <td>High Income, High Spender (Luxury Shopper)</td>\n",
       "    </tr>\n",
       "    <tr>\n",
       "      <th>2</th>\n",
       "      <td>88.200000</td>\n",
       "      <td>17.114286</td>\n",
       "      <td>35</td>\n",
       "      <td>High Income, Low Spender (Careful Saver)</td>\n",
       "    </tr>\n",
       "    <tr>\n",
       "      <th>3</th>\n",
       "      <td>26.304348</td>\n",
       "      <td>20.913043</td>\n",
       "      <td>23</td>\n",
       "      <td>Low Income, Low Spender (Frugal)</td>\n",
       "    </tr>\n",
       "    <tr>\n",
       "      <th>4</th>\n",
       "      <td>25.727273</td>\n",
       "      <td>79.363636</td>\n",
       "      <td>22</td>\n",
       "      <td>Low Income, High Spender (Bargain Hunter)</td>\n",
       "    </tr>\n",
       "  </tbody>\n",
       "</table>\n",
       "</div>"
      ],
      "text/plain": [
       "         Annual Income (k$)  Spending Score (1-100)  Customer Count  \\\n",
       "Cluster                                                               \n",
       "0                 55.296296               49.518519              81   \n",
       "1                 86.538462               82.128205              39   \n",
       "2                 88.200000               17.114286              35   \n",
       "3                 26.304348               20.913043              23   \n",
       "4                 25.727273               79.363636              22   \n",
       "\n",
       "                                      Cluster Description  \n",
       "Cluster                                                    \n",
       "0        Medium Income, Medium Spender (Average Customer)  \n",
       "1              High Income, High Spender (Luxury Shopper)  \n",
       "2                High Income, Low Spender (Careful Saver)  \n",
       "3                        Low Income, Low Spender (Frugal)  \n",
       "4               Low Income, High Spender (Bargain Hunter)  "
      ]
     },
     "execution_count": 21,
     "metadata": {},
     "output_type": "execute_result"
    }
   ],
   "source": [
    "# Automatically find thresholds using quartiles\n",
    "low_income_threshold = df[\"Annual Income (k$)\"].quantile(0.33)  # 1st third (~40K)\n",
    "high_income_threshold = df[\"Annual Income (k$)\"].quantile(0.66) # 2nd third (~70K)\n",
    "\n",
    "low_spending_threshold = df[\"Spending Score (1-100)\"].quantile(0.33)  # 1st third (~40)\n",
    "high_spending_threshold = df[\"Spending Score (1-100)\"].quantile(0.66) # 2nd third (~60)\n",
    "\n",
    "# Function to classify clusters based on calculated thresholds\n",
    "def describe_cluster(row):\n",
    "    income = row[\"Annual Income (k$)\"]\n",
    "    spending = row[\"Spending Score (1-100)\"]\n",
    "\n",
    "    if income < low_income_threshold and spending < low_spending_threshold:\n",
    "        return \"Low Income, Low Spender (Frugal)\"\n",
    "    elif income < low_income_threshold and spending > high_spending_threshold:\n",
    "        return \"Low Income, High Spender (Bargain Hunter)\"\n",
    "    elif income > high_income_threshold and spending < low_spending_threshold:\n",
    "        return \"High Income, Low Spender (Careful Saver)\"\n",
    "    elif income > high_income_threshold and spending > high_spending_threshold:\n",
    "        return \"High Income, High Spender (Luxury Shopper)\"\n",
    "    else:\n",
    "        return \"Medium Income, Medium Spender (Average Customer)\"\n",
    "\n",
    "# Apply function to cluster information\n",
    "cluster_info = df.groupby(\"Cluster\").agg({\n",
    "    \"Annual Income (k$)\": \"mean\",\n",
    "    \"Spending Score (1-100)\": \"mean\",\n",
    "    \"CustomerID\": \"count\"\n",
    "}).rename(columns={\"CustomerID\": \"Customer Count\"})\n",
    "\n",
    "cluster_info[\"Cluster Description\"] = cluster_info.apply(describe_cluster, axis=1)\n",
    "\n",
    "# Print the final cluster descriptions\n",
    "cluster_info"
   ]
  },
  {
   "cell_type": "code",
   "execution_count": 22,
   "id": "ff74effc-1531-40b0-992a-f483a8dd7620",
   "metadata": {},
   "outputs": [
    {
     "data": {
      "image/png": "[encoded data removed]",
      "text/plain": [
       "<Figure size 800x400 with 1 Axes>"
      ]
     },
     "metadata": {},
     "output_type": "display_data"
    }
   ],
   "source": [
    "# Visualizing clusters\n",
    "plt.figure(figsize=(8,4))\n",
    "sns.scatterplot(x=df[\"Annual Income (k$)\"], y=df[\"Spending Score (1-100)\"],\n",
    "                hue=df[\"Cluster\"], palette=\"viridis\", s=100)\n",
    "plt.scatter(loaded_kmeans.cluster_centers_[:, 0], loaded_kmeans.cluster_centers_[:, 1], \n",
    "            s=300, c='red', marker='X', label=\"Centroids\")\n",
    "plt.xlabel(\"Annual Income (k$)\")\n",
    "plt.ylabel(\"Spending Score (1-100)\")\n",
    "plt.title(f\"Customer Segmentation using Best K-Means (k={best_k})\")\n",
    "plt.legend()\n",
    "plt.show()"
   ]
  },
  {
   "cell_type": "code",
   "execution_count": 23,
   "id": "f976a7a3-298d-4b89-8c0f-bf246c05ad31",
   "metadata": {},
   "outputs": [
    {
     "name": "stdout",
     "output_type": "stream",
     "text": [
      "Best Model: k=5, Silhouette Score=0.5539\n",
      "   CustomerID  Annual Income (k$)  Spending Score (1-100)  Predicted Cluster\n",
      "0           1                  15                      39                  3\n",
      "1           2                  15                      81                  4\n",
      "2           3                  16                       6                  3\n",
      "3           4                  16                      77                  4\n",
      "4           5                  17                      40                  3\n"
     ]
    }
   ],
   "source": [
    "# Print sample predictions and model performance\n",
    "print(f\"Best Model: k={best_k}, Silhouette Score={best_score:.4f}\")\n",
    "print(df[[\"CustomerID\", \"Annual Income (k$)\", \"Spending Score (1-100)\", \"Predicted Cluster\"]].head())"
   ]
  },
  {
   "cell_type": "code",
   "execution_count": 24,
   "id": "4bd1d269-3544-4932-81d4-4ce2ae0e37b2",
   "metadata": {},
   "outputs": [
    {
     "name": "stdout",
     "output_type": "stream",
     "text": [
      "New customer with Income 70K and Spending Score 80 belongs to Cluster 1\n"
     ]
    }
   ],
   "source": [
    "# ====== Make Predictions for a New Customer ======\n",
    "new_customer = np.array([[70, 80]])  # Example: 70K annual income, 80 spending score\n",
    "predicted_cluster = loaded_kmeans.predict(new_customer)\n",
    "\n",
    "print(f\"New customer with Income 70K and Spending Score 80 belongs to Cluster {predicted_cluster[0]}\")"
   ]
  },
  {
   "cell_type": "markdown",
   "id": "02f05e54-e8e3-4b74-96ba-7412406c5d3a",
   "metadata": {},
   "source": [
    "# Remarks\n",
    "The **Silhouette Score** ranges between **-1 and 1**, where:  \n",
    "\n",
    "- **+1** → Clusters are **well-separated** (ideal clustering).  \n",
    "- **0** → Clusters are **overlapping** (not well-defined).  \n",
    "- **-1** → Clusters are **incorrectly assigned** (bad clustering).  \n",
    "\n",
    "### **What is a Good Silhouette Score?**  \n",
    "- **Above 0.5** → **Strong structure** (Good clustering).  \n",
    "- **Between 0.25 - 0.5** → **Decent clustering**, but could be improved.  \n",
    "- **Below 0.25** → **Weak clustering**, meaning data points are not well-separated.  \n",
    "\n",
    "### **Ideal Value for K-Means?**  \n",
    "- A **Silhouette Score > 0.5** is **ideal**.  \n",
    "- If the score is too low, consider **changing the number of clusters (k)** or using a **different clustering algorithm** like DBSCAN or Gaussian Mixture Models (GMM).  \n",
    "\n"
   ]
  },
  {
   "cell_type": "code",
   "execution_count": null,
   "id": "f1b2edc7-be82-4b4b-b337-88779228c796",
   "metadata": {},
   "outputs": [],
   "source": []
  }
 ],
 "metadata": {
  "kernelspec": {
   "display_name": "Python 3 (ipykernel)",
   "language": "python",
   "name": "python3"
  },
  "language_info": {
   "codemirror_mode": {
    "name": "ipython",
    "version": 3
   },
   "file_extension": ".py",
   "mimetype": "text/x-python",
   "name": "python",
   "nbconvert_exporter": "python",
   "pygments_lexer": "ipython3",
   "version": "3.12.7"
  }
 },
 "nbformat": 4,
 "nbformat_minor": 5
}
